{
 "cells": [
  {
   "cell_type": "markdown",
   "metadata": {},
   "source": [
    "# Sample Team Project\n",
    "\n",
    "- Used for MMAI 891"
   ]
  },
  {
   "cell_type": "code",
   "execution_count": 1,
   "metadata": {},
   "outputs": [
    {
     "name": "stdout",
     "output_type": "stream",
     "text": [
      "2022-02-15 11:48:17.992851\n"
     ]
    }
   ],
   "source": [
    "import datetime\n",
    "print(datetime.datetime.now())"
   ]
  },
  {
   "cell_type": "code",
   "execution_count": 2,
   "metadata": {},
   "outputs": [],
   "source": [
    "import pandas as pd\n",
    "\n",
    "from IPython.core.interactiveshell import InteractiveShell\n",
    "InteractiveShell.ast_node_interactivity = \"all\""
   ]
  },
  {
   "cell_type": "code",
   "execution_count": 3,
   "metadata": {},
   "outputs": [
    {
     "name": "stdout",
     "output_type": "stream",
     "text": [
      "The scikit-learn version is 0.24.1.\n"
     ]
    }
   ],
   "source": [
    "import sklearn\n",
    "print('The scikit-learn version is {}.'.format(sklearn.__version__))"
   ]
  },
  {
   "cell_type": "markdown",
   "metadata": {},
   "source": [
    "# Read Data"
   ]
  },
  {
   "cell_type": "code",
   "execution_count": 4,
   "metadata": {},
   "outputs": [
    {
     "name": "stdout",
     "output_type": "stream",
     "text": [
      "<class 'pandas.core.frame.DataFrame'>\n",
      "RangeIndex: 10466 entries, 0 to 10465\n",
      "Data columns (total 3 columns):\n",
      " #   Column    Non-Null Count  Dtype \n",
      "---  ------    --------------  ----- \n",
      " 0   id        10466 non-null  int64 \n",
      " 1   text      10466 non-null  object\n",
      " 2   category  10466 non-null  object\n",
      "dtypes: int64(1), object(2)\n",
      "memory usage: 245.4+ KB\n"
     ]
    },
    {
     "data": {
      "text/html": [
       "<div>\n",
       "<style scoped>\n",
       "    .dataframe tbody tr th:only-of-type {\n",
       "        vertical-align: middle;\n",
       "    }\n",
       "\n",
       "    .dataframe tbody tr th {\n",
       "        vertical-align: top;\n",
       "    }\n",
       "\n",
       "    .dataframe thead th {\n",
       "        text-align: right;\n",
       "    }\n",
       "</style>\n",
       "<table border=\"1\" class=\"dataframe\">\n",
       "  <thead>\n",
       "    <tr style=\"text-align: right;\">\n",
       "      <th></th>\n",
       "      <th>id</th>\n",
       "      <th>text</th>\n",
       "      <th>category</th>\n",
       "    </tr>\n",
       "  </thead>\n",
       "  <tbody>\n",
       "    <tr>\n",
       "      <th>0</th>\n",
       "      <td>5396</td>\n",
       "      <td>I made a purchase recently but I have decided ...</td>\n",
       "      <td>request_refund</td>\n",
       "    </tr>\n",
       "    <tr>\n",
       "      <th>1</th>\n",
       "      <td>2202</td>\n",
       "      <td>Cancel my transfer, please.</td>\n",
       "      <td>cancel_transfer</td>\n",
       "    </tr>\n",
       "    <tr>\n",
       "      <th>2</th>\n",
       "      <td>3768</td>\n",
       "      <td>How do I change my last name?</td>\n",
       "      <td>edit_personal_details</td>\n",
       "    </tr>\n",
       "    <tr>\n",
       "      <th>3</th>\n",
       "      <td>4967</td>\n",
       "      <td>A withdraw I tried to make at the ATM was decl...</td>\n",
       "      <td>declined_cash_withdrawal</td>\n",
       "    </tr>\n",
       "    <tr>\n",
       "      <th>4</th>\n",
       "      <td>5622</td>\n",
       "      <td>I tried to buy something online yesterday and ...</td>\n",
       "      <td>declined_transfer</td>\n",
       "    </tr>\n",
       "  </tbody>\n",
       "</table>\n",
       "</div>"
      ],
      "text/plain": [
       "     id                                               text  \\\n",
       "0  5396  I made a purchase recently but I have decided ...   \n",
       "1  2202                        Cancel my transfer, please.   \n",
       "2  3768                      How do I change my last name?   \n",
       "3  4967  A withdraw I tried to make at the ATM was decl...   \n",
       "4  5622  I tried to buy something online yesterday and ...   \n",
       "\n",
       "                   category  \n",
       "0            request_refund  \n",
       "1           cancel_transfer  \n",
       "2     edit_personal_details  \n",
       "3  declined_cash_withdrawal  \n",
       "4         declined_transfer  "
      ]
     },
     "execution_count": 4,
     "metadata": {},
     "output_type": "execute_result"
    }
   ],
   "source": [
    "df = pd.read_csv(\"../data/finance_train.csv\")\n",
    "df.info()\n",
    "df.head()"
   ]
  },
  {
   "cell_type": "code",
   "execution_count": 6,
   "metadata": {},
   "outputs": [
    {
     "data": {
      "text/plain": [
       "(8372,)"
      ]
     },
     "execution_count": 6,
     "metadata": {},
     "output_type": "execute_result"
    },
    {
     "data": {
      "text/plain": [
       "(8372,)"
      ]
     },
     "execution_count": 6,
     "metadata": {},
     "output_type": "execute_result"
    },
    {
     "data": {
      "text/plain": [
       "(2094,)"
      ]
     },
     "execution_count": 6,
     "metadata": {},
     "output_type": "execute_result"
    },
    {
     "data": {
      "text/plain": [
       "(2094,)"
      ]
     },
     "execution_count": 6,
     "metadata": {},
     "output_type": "execute_result"
    }
   ],
   "source": [
    "from sklearn.model_selection import train_test_split\n",
    "\n",
    "X = df['text']\n",
    "y = df['category']\n",
    "\n",
    "X_train, X_val, y_train, y_val = train_test_split(X, y, test_size=0.2, random_state=42)\n",
    "\n",
    "X_train.shape\n",
    "y_train.shape\n",
    "X_val.shape\n",
    "y_val.shape"
   ]
  },
  {
   "cell_type": "markdown",
   "metadata": {},
   "source": [
    "# Feature Engineering Pipeline"
   ]
  },
  {
   "cell_type": "code",
   "execution_count": 7,
   "metadata": {},
   "outputs": [],
   "source": [
    "from sklearn.feature_extraction.text import CountVectorizer\n",
    "from sklearn.tree import DecisionTreeClassifier\n",
    "from sklearn.pipeline import Pipeline\n",
    "\n",
    "vectorizer = CountVectorizer(min_df=.01, max_df=.8, ngram_range=[1,1], max_features=300, stop_words='english')\n",
    "\n",
    "pipe = Pipeline([('vec', vectorizer),  ('clf', DecisionTreeClassifier(random_state=223))])"
   ]
  },
  {
   "cell_type": "markdown",
   "metadata": {},
   "source": [
    "# Modeling Fitting"
   ]
  },
  {
   "cell_type": "code",
   "execution_count": 8,
   "metadata": {},
   "outputs": [
    {
     "data": {
      "text/plain": [
       "Pipeline(steps=[('vec',\n",
       "                 CountVectorizer(max_df=0.8, max_features=300, min_df=0.01,\n",
       "                                 ngram_range=[1, 1], stop_words='english')),\n",
       "                ('clf', DecisionTreeClassifier(random_state=223))])"
      ]
     },
     "execution_count": 8,
     "metadata": {},
     "output_type": "execute_result"
    }
   ],
   "source": [
    "pipe.fit(X_train, y_train)"
   ]
  },
  {
   "cell_type": "markdown",
   "metadata": {},
   "source": [
    "# Model Assessment"
   ]
  },
  {
   "cell_type": "code",
   "execution_count": 9,
   "metadata": {},
   "outputs": [
    {
     "name": "stdout",
     "output_type": "stream",
     "text": [
      "[[19  0  1 ...  0  0  0]\n",
      " [ 0 14  0 ...  0  0  0]\n",
      " [ 0  0 13 ...  0  0  0]\n",
      " ...\n",
      " [ 0  0  0 ...  6  0  0]\n",
      " [ 0  0  0 ...  0 14  0]\n",
      " [ 0  0  0 ...  0  1 17]]\n",
      "                                                  precision    recall  f1-score   support\n",
      "\n",
      "                           Refund_not_showing_up       0.56      0.70      0.62        27\n",
      "                                activate_my_card       0.10      0.54      0.17        26\n",
      "                                       age_limit       0.25      0.50      0.33        26\n",
      "                         apple_pay_or_google_pay       0.62      0.67      0.64        27\n",
      "                                     atm_support       0.67      0.38      0.48        16\n",
      "                                automatic_top_up       0.38      0.10      0.15        31\n",
      "         balance_not_updated_after_bank_transfer       0.57      0.47      0.52        36\n",
      "balance_not_updated_after_cheque_or_cash_deposit       0.51      0.68      0.58        34\n",
      "                         beneficiary_not_allowed       0.30      0.67      0.42        21\n",
      "                                 cancel_transfer       0.78      0.92      0.84        38\n",
      "                            card_about_to_expire       0.47      0.24      0.31        34\n",
      "                                 card_acceptance       0.33      0.44      0.38        18\n",
      "                                    card_arrival       0.45      0.33      0.38        27\n",
      "                          card_delivery_estimate       0.57      0.31      0.40        26\n",
      "                                    card_linking       0.75      0.56      0.64        27\n",
      "                                card_not_working       0.50      0.50      0.50        24\n",
      "                        card_payment_fee_charged       0.92      0.72      0.81        50\n",
      "                     card_payment_not_recognised       0.66      0.62      0.64        37\n",
      "                card_payment_wrong_exchange_rate       0.76      0.86      0.81        22\n",
      "                                  card_swallowed       0.67      0.73      0.70        11\n",
      "                          cash_withdrawal_charge       0.70      0.58      0.63        33\n",
      "                  cash_withdrawal_not_recognised       0.62      0.39      0.48        33\n",
      "                                      change_pin       1.00      0.95      0.98        21\n",
      "                                compromised_card       0.46      0.46      0.46        24\n",
      "                         contactless_not_working       0.38      0.21      0.27        14\n",
      "                                 country_support       0.00      0.00      0.00        26\n",
      "                           declined_card_payment       0.72      0.51      0.60        35\n",
      "                        declined_cash_withdrawal       0.70      0.70      0.70        27\n",
      "                               declined_transfer       0.90      0.78      0.84        23\n",
      "             direct_debit_payment_not_recognised       0.90      0.78      0.84        36\n",
      "                          disposable_card_limits       0.79      0.82      0.81        33\n",
      "                           edit_personal_details       0.54      0.48      0.51        27\n",
      "                                 exchange_charge       0.68      0.59      0.63        32\n",
      "                                   exchange_rate       0.59      0.81      0.68        16\n",
      "                                exchange_via_app       0.76      0.45      0.57        29\n",
      "                       extra_charge_on_statement       0.77      0.60      0.68        40\n",
      "                                 failed_transfer       0.50      0.63      0.56        27\n",
      "                           fiat_currency_support       0.61      0.76      0.68        25\n",
      "                     get_disposable_virtual_card       0.78      0.48      0.60        29\n",
      "                               get_physical_card       0.62      0.42      0.50        19\n",
      "                              getting_spare_card       0.44      0.50      0.47        30\n",
      "                            getting_virtual_card       0.81      0.91      0.86        23\n",
      "                             lost_or_stolen_card       0.57      0.44      0.50        18\n",
      "                            lost_or_stolen_phone       0.74      0.48      0.58        29\n",
      "                             order_physical_card       0.18      0.22      0.20        18\n",
      "                              passcode_forgotten       0.24      0.18      0.21        22\n",
      "                            pending_card_payment       0.85      0.76      0.81        38\n",
      "                         pending_cash_withdrawal       0.88      0.79      0.84        29\n",
      "                                  pending_top_up       0.61      0.42      0.50        33\n",
      "                                pending_transfer       0.57      0.35      0.43        23\n",
      "                                     pin_blocked       0.56      0.71      0.63        21\n",
      "                                 receiving_money       0.43      0.14      0.21        22\n",
      "                                  request_refund       0.60      0.51      0.55        41\n",
      "                          reverted_card_payment?       0.51      0.49      0.50        37\n",
      "                  supported_cards_and_currencies       0.38      0.28      0.32        18\n",
      "                               terminate_account       0.50      0.32      0.39        25\n",
      "                  top_up_by_bank_transfer_charge       0.59      0.41      0.48        32\n",
      "                           top_up_by_card_charge       0.57      0.59      0.58        27\n",
      "                        top_up_by_cash_or_cheque       0.82      0.33      0.47        27\n",
      "                                   top_up_failed       0.33      0.19      0.24        27\n",
      "                                   top_up_limits       0.13      0.68      0.22        28\n",
      "                                 top_up_reverted       0.39      0.23      0.29        31\n",
      "                              topping_up_by_card       0.57      0.35      0.43        23\n",
      "                       transaction_charged_twice       0.53      0.73      0.61        37\n",
      "                            transfer_fee_charged       0.75      0.41      0.53        37\n",
      "                           transfer_into_account       0.54      0.75      0.63        20\n",
      "              transfer_not_received_by_recipient       0.85      0.39      0.54        28\n",
      "                                 transfer_timing       0.56      0.52      0.54        29\n",
      "                       unable_to_verify_identity       0.40      0.50      0.44        24\n",
      "                              verify_my_identity       0.48      0.59      0.53        22\n",
      "                          verify_source_of_funds       0.33      0.73      0.46        15\n",
      "                                   verify_top_up       0.87      0.92      0.89        36\n",
      "                        virtual_card_not_working       0.50      0.88      0.64         8\n",
      "                              visa_or_mastercard       0.94      0.53      0.68        32\n",
      "                             why_verify_identity       0.55      0.27      0.36        22\n",
      "                   wrong_amount_of_cash_received       0.56      0.56      0.56        25\n",
      "         wrong_exchange_rate_for_cash_withdrawal       0.77      0.57      0.65        30\n",
      "\n",
      "                                        accuracy                           0.54      2094\n",
      "                                       macro avg       0.58      0.53      0.53      2094\n",
      "                                    weighted avg       0.60      0.54      0.55      2094\n",
      "\n"
     ]
    }
   ],
   "source": [
    "from sklearn.metrics import confusion_matrix, classification_report\n",
    "\n",
    "pred_val = pipe.predict(X_val)\n",
    "print(confusion_matrix(y_val, pred_val))\n",
    "print(classification_report(y_val, pred_val))"
   ]
  },
  {
   "cell_type": "markdown",
   "metadata": {},
   "source": [
    "# Kaggle Predictions"
   ]
  },
  {
   "cell_type": "code",
   "execution_count": 10,
   "metadata": {},
   "outputs": [
    {
     "name": "stdout",
     "output_type": "stream",
     "text": [
      "<class 'pandas.core.frame.DataFrame'>\n",
      "RangeIndex: 2617 entries, 0 to 2616\n",
      "Data columns (total 2 columns):\n",
      " #   Column  Non-Null Count  Dtype \n",
      "---  ------  --------------  ----- \n",
      " 0   id      2617 non-null   int64 \n",
      " 1   text    2617 non-null   object\n",
      "dtypes: int64(1), object(1)\n",
      "memory usage: 41.0+ KB\n"
     ]
    },
    {
     "data": {
      "text/html": [
       "<div>\n",
       "<style scoped>\n",
       "    .dataframe tbody tr th:only-of-type {\n",
       "        vertical-align: middle;\n",
       "    }\n",
       "\n",
       "    .dataframe tbody tr th {\n",
       "        vertical-align: top;\n",
       "    }\n",
       "\n",
       "    .dataframe thead th {\n",
       "        text-align: right;\n",
       "    }\n",
       "</style>\n",
       "<table border=\"1\" class=\"dataframe\">\n",
       "  <thead>\n",
       "    <tr style=\"text-align: right;\">\n",
       "      <th></th>\n",
       "      <th>id</th>\n",
       "      <th>text</th>\n",
       "    </tr>\n",
       "  </thead>\n",
       "  <tbody>\n",
       "    <tr>\n",
       "      <th>0</th>\n",
       "      <td>5037</td>\n",
       "      <td>The ATM cancelled a transaction on me when I w...</td>\n",
       "    </tr>\n",
       "    <tr>\n",
       "      <th>1</th>\n",
       "      <td>3461</td>\n",
       "      <td>where is my money from this morning</td>\n",
       "    </tr>\n",
       "    <tr>\n",
       "      <th>2</th>\n",
       "      <td>995</td>\n",
       "      <td>I would like to know which fiat currencies are...</td>\n",
       "    </tr>\n",
       "    <tr>\n",
       "      <th>3</th>\n",
       "      <td>2890</td>\n",
       "      <td>Why did I get a fee?</td>\n",
       "    </tr>\n",
       "    <tr>\n",
       "      <th>4</th>\n",
       "      <td>9274</td>\n",
       "      <td>I need my card to be activated right now.</td>\n",
       "    </tr>\n",
       "  </tbody>\n",
       "</table>\n",
       "</div>"
      ],
      "text/plain": [
       "     id                                               text\n",
       "0  5037  The ATM cancelled a transaction on me when I w...\n",
       "1  3461                where is my money from this morning\n",
       "2   995  I would like to know which fiat currencies are...\n",
       "3  2890                               Why did I get a fee?\n",
       "4  9274          I need my card to be activated right now."
      ]
     },
     "execution_count": 10,
     "metadata": {},
     "output_type": "execute_result"
    }
   ],
   "source": [
    "df_test = pd.read_csv('../data/finance_test.csv')\n",
    "df_test.info()\n",
    "df_test.head()"
   ]
  },
  {
   "cell_type": "code",
   "execution_count": 11,
   "metadata": {},
   "outputs": [],
   "source": [
    "pred_test = pipe.predict(df_test['text'])"
   ]
  },
  {
   "cell_type": "code",
   "execution_count": 12,
   "metadata": {},
   "outputs": [
    {
     "data": {
      "text/plain": [
       "array(['declined_cash_withdrawal', 'verify_source_of_funds',\n",
       "       'fiat_currency_support', ..., 'card_not_working',\n",
       "       'transaction_charged_twice', 'direct_debit_payment_not_recognised'],\n",
       "      dtype=object)"
      ]
     },
     "execution_count": 12,
     "metadata": {},
     "output_type": "execute_result"
    }
   ],
   "source": [
    "pred_test"
   ]
  },
  {
   "cell_type": "code",
   "execution_count": 13,
   "metadata": {},
   "outputs": [
    {
     "data": {
      "text/html": [
       "<div>\n",
       "<style scoped>\n",
       "    .dataframe tbody tr th:only-of-type {\n",
       "        vertical-align: middle;\n",
       "    }\n",
       "\n",
       "    .dataframe tbody tr th {\n",
       "        vertical-align: top;\n",
       "    }\n",
       "\n",
       "    .dataframe thead th {\n",
       "        text-align: right;\n",
       "    }\n",
       "</style>\n",
       "<table border=\"1\" class=\"dataframe\">\n",
       "  <thead>\n",
       "    <tr style=\"text-align: right;\">\n",
       "      <th></th>\n",
       "      <th>Id</th>\n",
       "      <th>Predicted</th>\n",
       "    </tr>\n",
       "  </thead>\n",
       "  <tbody>\n",
       "    <tr>\n",
       "      <th>0</th>\n",
       "      <td>5037</td>\n",
       "      <td>declined_cash_withdrawal</td>\n",
       "    </tr>\n",
       "    <tr>\n",
       "      <th>1</th>\n",
       "      <td>3461</td>\n",
       "      <td>verify_source_of_funds</td>\n",
       "    </tr>\n",
       "    <tr>\n",
       "      <th>2</th>\n",
       "      <td>995</td>\n",
       "      <td>fiat_currency_support</td>\n",
       "    </tr>\n",
       "    <tr>\n",
       "      <th>3</th>\n",
       "      <td>2890</td>\n",
       "      <td>extra_charge_on_statement</td>\n",
       "    </tr>\n",
       "    <tr>\n",
       "      <th>4</th>\n",
       "      <td>9274</td>\n",
       "      <td>activate_my_card</td>\n",
       "    </tr>\n",
       "  </tbody>\n",
       "</table>\n",
       "</div>"
      ],
      "text/plain": [
       "     Id                  Predicted\n",
       "0  5037   declined_cash_withdrawal\n",
       "1  3461     verify_source_of_funds\n",
       "2   995      fiat_currency_support\n",
       "3  2890  extra_charge_on_statement\n",
       "4  9274           activate_my_card"
      ]
     },
     "execution_count": 13,
     "metadata": {},
     "output_type": "execute_result"
    }
   ],
   "source": [
    "my_submission = pd.DataFrame({'Id': df_test['id'], 'Predicted': pred_test})\n",
    "my_submission.head()"
   ]
  },
  {
   "cell_type": "code",
   "execution_count": 14,
   "metadata": {},
   "outputs": [],
   "source": [
    "my_submission.to_csv('my_submission.csv', index=False)"
   ]
  },
  {
   "cell_type": "code",
   "execution_count": null,
   "metadata": {},
   "outputs": [],
   "source": []
  }
 ],
 "metadata": {
  "kernelspec": {
   "display_name": "Python 3",
   "language": "python",
   "name": "python3"
  },
  "language_info": {
   "codemirror_mode": {
    "name": "ipython",
    "version": 3
   },
   "file_extension": ".py",
   "mimetype": "text/x-python",
   "name": "python",
   "nbconvert_exporter": "python",
   "pygments_lexer": "ipython3",
   "version": "3.6.8"
  }
 },
 "nbformat": 4,
 "nbformat_minor": 4
}
